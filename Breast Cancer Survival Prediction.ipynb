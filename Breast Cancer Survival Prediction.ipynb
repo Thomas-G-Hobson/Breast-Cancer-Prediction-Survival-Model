{
 "cells": [
  {
   "cell_type": "markdown",
   "id": "e07e7924",
   "metadata": {},
   "source": [
    "# Breast Cancer Survival Prediction"
   ]
  },
  {
   "cell_type": "markdown",
   "id": "29f1c017",
   "metadata": {},
   "source": [
    "## Overview"
   ]
  },
  {
   "cell_type": "markdown",
   "id": "83b49037",
   "metadata": {},
   "source": [
    "In this case study, I will be utilizing machine learning techniques to develop a predictive model for breast cancer survival. By training my model on a dataset that includes relevant patient information and survival outcomes, I aim to create a tool that can assist clinicians in assessing the prognosis of breast cancer patients. This could potentially aid in treatment decision-making and improve patient care."
   ]
  },
  {
   "cell_type": "markdown",
   "id": "1b473dcf",
   "metadata": {},
   "source": [
    "**Please note that while machine learning can provide valuable insights, it should be used as a supplementary tool to support medical professionals rather than replace their expertise and judgment.**"
   ]
  },
  {
   "cell_type": "markdown",
   "id": "90b0f349",
   "metadata": {},
   "source": [
    "## Dataset Overview"
   ]
  },
  {
   "cell_type": "markdown",
   "id": "e7d65db0",
   "metadata": {},
   "source": [
    "Below is informartion on the columns of the dataset of Breast Cancer Patiets. These patients have undergone surgery for treatment:"
   ]
  },
  {
   "cell_type": "markdown",
   "id": "6110eac1",
   "metadata": {},
   "source": [
    "**Patient_ID:** ID of the patient\\\n",
    "**Age:** Age of the patient\\\n",
    "**Gender:**\tGender of the patient\\\n",
    "**Protein1, Protein2, Protein3, Protein4:** Expression levels\\\n",
    "**Tumor_Stage:** Breast cancer stage of the patient\\\n",
    "**Histology:** Infiltrating Ductal Carcinoma, Infiltration Lobular Carcinoma, Mutinous Carcinoma\\\n",
    "**ER status:** Positive / Negative\\\n",
    "**PR status:** Postive / Negative\\\n",
    "**HER2 status:** Positive / Negative\\\n",
    "**Surgery_type:** Lumpectomy, Simple Mastectomy, Modified Radical Mastectomy, Other\\\n",
    "**DateOfSurgery:** The date of the surgery\\\n",
    "**DateOfLast_Visit:** The date of the last visit of the patient\\\n",
    "**Patient_Status:** Alive / Dead"
   ]
  },
  {
   "cell_type": "markdown",
   "id": "04305dd2",
   "metadata": {},
   "source": [
    "## Import Packages & Load Data"
   ]
  },
  {
   "cell_type": "code",
   "execution_count": 130,
   "id": "520d92b8",
   "metadata": {},
   "outputs": [],
   "source": [
    "# Import Operational Packages\n",
    "import pandas as pd\n",
    "import numpy as np\n",
    "\n",
    "# Import Visualization Packages\n",
    "import matplotlib.pyplot as plt\n",
    "import seaborn as sns\n",
    "\n",
    "# Other Packages\n",
    "from sklearn.model_selection import train_test_split\n",
    "from sklearn.svm import SVC\n",
    "from sklearn.preprocessing import StandardScaler, OneHotEncoder, LabelEncoder\n",
    "from sklearn.linear_model import LogisticRegression\n",
    "from sklearn.metrics import accuracy_score, classification_report\n",
    "from sklearn.ensemble import RandomForestClassifier"
   ]
  },
  {
   "cell_type": "code",
   "execution_count": 45,
   "id": "e45b1dd7",
   "metadata": {},
   "outputs": [],
   "source": [
    "brca = pd.read_csv(\"/Users/thomashobson/Downloads/Data Analytic Projects/Healthcare/BRCA.csv\") "
   ]
  },
  {
   "cell_type": "markdown",
   "id": "fa1ef477",
   "metadata": {},
   "source": [
    "## Exploratory Data Analysis"
   ]
  },
  {
   "cell_type": "code",
   "execution_count": 46,
   "id": "a3431d34",
   "metadata": {},
   "outputs": [
    {
     "data": {
      "text/html": [
       "<div>\n",
       "<style scoped>\n",
       "    .dataframe tbody tr th:only-of-type {\n",
       "        vertical-align: middle;\n",
       "    }\n",
       "\n",
       "    .dataframe tbody tr th {\n",
       "        vertical-align: top;\n",
       "    }\n",
       "\n",
       "    .dataframe thead th {\n",
       "        text-align: right;\n",
       "    }\n",
       "</style>\n",
       "<table border=\"1\" class=\"dataframe\">\n",
       "  <thead>\n",
       "    <tr style=\"text-align: right;\">\n",
       "      <th></th>\n",
       "      <th>Patient_ID</th>\n",
       "      <th>Age</th>\n",
       "      <th>Gender</th>\n",
       "      <th>Protein1</th>\n",
       "      <th>Protein2</th>\n",
       "      <th>Protein3</th>\n",
       "      <th>Protein4</th>\n",
       "      <th>Tumour_Stage</th>\n",
       "      <th>Histology</th>\n",
       "      <th>ER status</th>\n",
       "      <th>PR status</th>\n",
       "      <th>HER2 status</th>\n",
       "      <th>Surgery_type</th>\n",
       "      <th>Date_of_Surgery</th>\n",
       "      <th>Date_of_Last_Visit</th>\n",
       "      <th>Patient_Status</th>\n",
       "    </tr>\n",
       "  </thead>\n",
       "  <tbody>\n",
       "    <tr>\n",
       "      <th>0</th>\n",
       "      <td>TCGA-D8-A1XD</td>\n",
       "      <td>36.0</td>\n",
       "      <td>FEMALE</td>\n",
       "      <td>0.080353</td>\n",
       "      <td>0.42638</td>\n",
       "      <td>0.547150</td>\n",
       "      <td>0.273680</td>\n",
       "      <td>III</td>\n",
       "      <td>Infiltrating Ductal Carcinoma</td>\n",
       "      <td>Positive</td>\n",
       "      <td>Positive</td>\n",
       "      <td>Negative</td>\n",
       "      <td>Modified Radical Mastectomy</td>\n",
       "      <td>15-Jan-17</td>\n",
       "      <td>19-Jun-17</td>\n",
       "      <td>Alive</td>\n",
       "    </tr>\n",
       "    <tr>\n",
       "      <th>1</th>\n",
       "      <td>TCGA-EW-A1OX</td>\n",
       "      <td>43.0</td>\n",
       "      <td>FEMALE</td>\n",
       "      <td>-0.420320</td>\n",
       "      <td>0.57807</td>\n",
       "      <td>0.614470</td>\n",
       "      <td>-0.031505</td>\n",
       "      <td>II</td>\n",
       "      <td>Mucinous Carcinoma</td>\n",
       "      <td>Positive</td>\n",
       "      <td>Positive</td>\n",
       "      <td>Negative</td>\n",
       "      <td>Lumpectomy</td>\n",
       "      <td>26-Apr-17</td>\n",
       "      <td>09-Nov-18</td>\n",
       "      <td>Dead</td>\n",
       "    </tr>\n",
       "    <tr>\n",
       "      <th>2</th>\n",
       "      <td>TCGA-A8-A079</td>\n",
       "      <td>69.0</td>\n",
       "      <td>FEMALE</td>\n",
       "      <td>0.213980</td>\n",
       "      <td>1.31140</td>\n",
       "      <td>-0.327470</td>\n",
       "      <td>-0.234260</td>\n",
       "      <td>III</td>\n",
       "      <td>Infiltrating Ductal Carcinoma</td>\n",
       "      <td>Positive</td>\n",
       "      <td>Positive</td>\n",
       "      <td>Negative</td>\n",
       "      <td>Other</td>\n",
       "      <td>08-Sep-17</td>\n",
       "      <td>09-Jun-18</td>\n",
       "      <td>Alive</td>\n",
       "    </tr>\n",
       "    <tr>\n",
       "      <th>3</th>\n",
       "      <td>TCGA-D8-A1XR</td>\n",
       "      <td>56.0</td>\n",
       "      <td>FEMALE</td>\n",
       "      <td>0.345090</td>\n",
       "      <td>-0.21147</td>\n",
       "      <td>-0.193040</td>\n",
       "      <td>0.124270</td>\n",
       "      <td>II</td>\n",
       "      <td>Infiltrating Ductal Carcinoma</td>\n",
       "      <td>Positive</td>\n",
       "      <td>Positive</td>\n",
       "      <td>Negative</td>\n",
       "      <td>Modified Radical Mastectomy</td>\n",
       "      <td>25-Jan-17</td>\n",
       "      <td>12-Jul-17</td>\n",
       "      <td>Alive</td>\n",
       "    </tr>\n",
       "    <tr>\n",
       "      <th>4</th>\n",
       "      <td>TCGA-BH-A0BF</td>\n",
       "      <td>56.0</td>\n",
       "      <td>FEMALE</td>\n",
       "      <td>0.221550</td>\n",
       "      <td>1.90680</td>\n",
       "      <td>0.520450</td>\n",
       "      <td>-0.311990</td>\n",
       "      <td>II</td>\n",
       "      <td>Infiltrating Ductal Carcinoma</td>\n",
       "      <td>Positive</td>\n",
       "      <td>Positive</td>\n",
       "      <td>Negative</td>\n",
       "      <td>Other</td>\n",
       "      <td>06-May-17</td>\n",
       "      <td>27-Jun-19</td>\n",
       "      <td>Dead</td>\n",
       "    </tr>\n",
       "    <tr>\n",
       "      <th>5</th>\n",
       "      <td>TCGA-AO-A1KQ</td>\n",
       "      <td>84.0</td>\n",
       "      <td>MALE</td>\n",
       "      <td>-0.081872</td>\n",
       "      <td>1.72410</td>\n",
       "      <td>-0.057335</td>\n",
       "      <td>0.043025</td>\n",
       "      <td>III</td>\n",
       "      <td>Infiltrating Ductal Carcinoma</td>\n",
       "      <td>Positive</td>\n",
       "      <td>Positive</td>\n",
       "      <td>Negative</td>\n",
       "      <td>Modified Radical Mastectomy</td>\n",
       "      <td>18-Sep-17</td>\n",
       "      <td>15-Nov-21</td>\n",
       "      <td>Alive</td>\n",
       "    </tr>\n",
       "    <tr>\n",
       "      <th>6</th>\n",
       "      <td>TCGA-D8-A73X</td>\n",
       "      <td>53.0</td>\n",
       "      <td>FEMALE</td>\n",
       "      <td>-0.069535</td>\n",
       "      <td>1.41830</td>\n",
       "      <td>-0.361050</td>\n",
       "      <td>0.391580</td>\n",
       "      <td>II</td>\n",
       "      <td>Infiltrating Ductal Carcinoma</td>\n",
       "      <td>Positive</td>\n",
       "      <td>Positive</td>\n",
       "      <td>Negative</td>\n",
       "      <td>Simple Mastectomy</td>\n",
       "      <td>04-Feb-17</td>\n",
       "      <td>07-Feb-18</td>\n",
       "      <td>Alive</td>\n",
       "    </tr>\n",
       "    <tr>\n",
       "      <th>7</th>\n",
       "      <td>TCGA-A7-A426</td>\n",
       "      <td>50.0</td>\n",
       "      <td>FEMALE</td>\n",
       "      <td>0.672490</td>\n",
       "      <td>1.27900</td>\n",
       "      <td>-0.321070</td>\n",
       "      <td>-0.112390</td>\n",
       "      <td>III</td>\n",
       "      <td>Infiltrating Ductal Carcinoma</td>\n",
       "      <td>Positive</td>\n",
       "      <td>Positive</td>\n",
       "      <td>Negative</td>\n",
       "      <td>Simple Mastectomy</td>\n",
       "      <td>16-May-17</td>\n",
       "      <td>NaN</td>\n",
       "      <td>NaN</td>\n",
       "    </tr>\n",
       "    <tr>\n",
       "      <th>8</th>\n",
       "      <td>TCGA-EW-A1P5</td>\n",
       "      <td>77.0</td>\n",
       "      <td>FEMALE</td>\n",
       "      <td>-0.151750</td>\n",
       "      <td>-0.66332</td>\n",
       "      <td>1.189400</td>\n",
       "      <td>0.217180</td>\n",
       "      <td>II</td>\n",
       "      <td>Infiltrating Ductal Carcinoma</td>\n",
       "      <td>Positive</td>\n",
       "      <td>Positive</td>\n",
       "      <td>Negative</td>\n",
       "      <td>Modified Radical Mastectomy</td>\n",
       "      <td>28-Sep-17</td>\n",
       "      <td>28-Sep-18</td>\n",
       "      <td>Alive</td>\n",
       "    </tr>\n",
       "    <tr>\n",
       "      <th>9</th>\n",
       "      <td>TCGA-A8-A09A</td>\n",
       "      <td>40.0</td>\n",
       "      <td>FEMALE</td>\n",
       "      <td>-0.565700</td>\n",
       "      <td>1.26680</td>\n",
       "      <td>-0.293460</td>\n",
       "      <td>0.193950</td>\n",
       "      <td>II</td>\n",
       "      <td>Infiltrating Lobular Carcinoma</td>\n",
       "      <td>Positive</td>\n",
       "      <td>Positive</td>\n",
       "      <td>Positive</td>\n",
       "      <td>Other</td>\n",
       "      <td>14-Feb-17</td>\n",
       "      <td>15-Dec-17</td>\n",
       "      <td>Alive</td>\n",
       "    </tr>\n",
       "  </tbody>\n",
       "</table>\n",
       "</div>"
      ],
      "text/plain": [
       "     Patient_ID   Age  Gender  Protein1  Protein2  Protein3  Protein4  \\\n",
       "0  TCGA-D8-A1XD  36.0  FEMALE  0.080353   0.42638  0.547150  0.273680   \n",
       "1  TCGA-EW-A1OX  43.0  FEMALE -0.420320   0.57807  0.614470 -0.031505   \n",
       "2  TCGA-A8-A079  69.0  FEMALE  0.213980   1.31140 -0.327470 -0.234260   \n",
       "3  TCGA-D8-A1XR  56.0  FEMALE  0.345090  -0.21147 -0.193040  0.124270   \n",
       "4  TCGA-BH-A0BF  56.0  FEMALE  0.221550   1.90680  0.520450 -0.311990   \n",
       "5  TCGA-AO-A1KQ  84.0    MALE -0.081872   1.72410 -0.057335  0.043025   \n",
       "6  TCGA-D8-A73X  53.0  FEMALE -0.069535   1.41830 -0.361050  0.391580   \n",
       "7  TCGA-A7-A426  50.0  FEMALE  0.672490   1.27900 -0.321070 -0.112390   \n",
       "8  TCGA-EW-A1P5  77.0  FEMALE -0.151750  -0.66332  1.189400  0.217180   \n",
       "9  TCGA-A8-A09A  40.0  FEMALE -0.565700   1.26680 -0.293460  0.193950   \n",
       "\n",
       "  Tumour_Stage                       Histology ER status PR status  \\\n",
       "0          III   Infiltrating Ductal Carcinoma  Positive  Positive   \n",
       "1           II              Mucinous Carcinoma  Positive  Positive   \n",
       "2          III   Infiltrating Ductal Carcinoma  Positive  Positive   \n",
       "3           II   Infiltrating Ductal Carcinoma  Positive  Positive   \n",
       "4           II   Infiltrating Ductal Carcinoma  Positive  Positive   \n",
       "5          III   Infiltrating Ductal Carcinoma  Positive  Positive   \n",
       "6           II   Infiltrating Ductal Carcinoma  Positive  Positive   \n",
       "7          III   Infiltrating Ductal Carcinoma  Positive  Positive   \n",
       "8           II   Infiltrating Ductal Carcinoma  Positive  Positive   \n",
       "9           II  Infiltrating Lobular Carcinoma  Positive  Positive   \n",
       "\n",
       "  HER2 status                 Surgery_type Date_of_Surgery Date_of_Last_Visit  \\\n",
       "0    Negative  Modified Radical Mastectomy       15-Jan-17          19-Jun-17   \n",
       "1    Negative                   Lumpectomy       26-Apr-17          09-Nov-18   \n",
       "2    Negative                        Other       08-Sep-17          09-Jun-18   \n",
       "3    Negative  Modified Radical Mastectomy       25-Jan-17          12-Jul-17   \n",
       "4    Negative                        Other       06-May-17          27-Jun-19   \n",
       "5    Negative  Modified Radical Mastectomy       18-Sep-17          15-Nov-21   \n",
       "6    Negative            Simple Mastectomy       04-Feb-17          07-Feb-18   \n",
       "7    Negative            Simple Mastectomy       16-May-17                NaN   \n",
       "8    Negative  Modified Radical Mastectomy       28-Sep-17          28-Sep-18   \n",
       "9    Positive                        Other       14-Feb-17          15-Dec-17   \n",
       "\n",
       "  Patient_Status  \n",
       "0          Alive  \n",
       "1           Dead  \n",
       "2          Alive  \n",
       "3          Alive  \n",
       "4           Dead  \n",
       "5          Alive  \n",
       "6          Alive  \n",
       "7            NaN  \n",
       "8          Alive  \n",
       "9          Alive  "
      ]
     },
     "execution_count": 46,
     "metadata": {},
     "output_type": "execute_result"
    }
   ],
   "source": [
    "brca.head(10)"
   ]
  },
  {
   "cell_type": "code",
   "execution_count": 48,
   "id": "fe192b81",
   "metadata": {},
   "outputs": [
    {
     "name": "stdout",
     "output_type": "stream",
     "text": [
      "<class 'pandas.core.frame.DataFrame'>\n",
      "RangeIndex: 341 entries, 0 to 340\n",
      "Data columns (total 16 columns):\n",
      " #   Column              Non-Null Count  Dtype  \n",
      "---  ------              --------------  -----  \n",
      " 0   Patient_ID          334 non-null    object \n",
      " 1   Age                 334 non-null    float64\n",
      " 2   Gender              334 non-null    object \n",
      " 3   Protein1            334 non-null    float64\n",
      " 4   Protein2            334 non-null    float64\n",
      " 5   Protein3            334 non-null    float64\n",
      " 6   Protein4            334 non-null    float64\n",
      " 7   Tumour_Stage        334 non-null    object \n",
      " 8   Histology           334 non-null    object \n",
      " 9   ER status           334 non-null    object \n",
      " 10  PR status           334 non-null    object \n",
      " 11  HER2 status         334 non-null    object \n",
      " 12  Surgery_type        334 non-null    object \n",
      " 13  Date_of_Surgery     334 non-null    object \n",
      " 14  Date_of_Last_Visit  317 non-null    object \n",
      " 15  Patient_Status      321 non-null    object \n",
      "dtypes: float64(5), object(11)\n",
      "memory usage: 42.8+ KB\n"
     ]
    }
   ],
   "source": [
    "brca.info()"
   ]
  },
  {
   "cell_type": "code",
   "execution_count": 49,
   "id": "aa17d177",
   "metadata": {},
   "outputs": [
    {
     "data": {
      "text/html": [
       "<div>\n",
       "<style scoped>\n",
       "    .dataframe tbody tr th:only-of-type {\n",
       "        vertical-align: middle;\n",
       "    }\n",
       "\n",
       "    .dataframe tbody tr th {\n",
       "        vertical-align: top;\n",
       "    }\n",
       "\n",
       "    .dataframe thead th {\n",
       "        text-align: right;\n",
       "    }\n",
       "</style>\n",
       "<table border=\"1\" class=\"dataframe\">\n",
       "  <thead>\n",
       "    <tr style=\"text-align: right;\">\n",
       "      <th></th>\n",
       "      <th>Age</th>\n",
       "      <th>Protein1</th>\n",
       "      <th>Protein2</th>\n",
       "      <th>Protein3</th>\n",
       "      <th>Protein4</th>\n",
       "    </tr>\n",
       "  </thead>\n",
       "  <tbody>\n",
       "    <tr>\n",
       "      <th>count</th>\n",
       "      <td>334.000000</td>\n",
       "      <td>334.000000</td>\n",
       "      <td>334.000000</td>\n",
       "      <td>334.000000</td>\n",
       "      <td>334.000000</td>\n",
       "    </tr>\n",
       "    <tr>\n",
       "      <th>mean</th>\n",
       "      <td>58.886228</td>\n",
       "      <td>-0.029991</td>\n",
       "      <td>0.946896</td>\n",
       "      <td>-0.090204</td>\n",
       "      <td>0.009819</td>\n",
       "    </tr>\n",
       "    <tr>\n",
       "      <th>std</th>\n",
       "      <td>12.961212</td>\n",
       "      <td>0.563588</td>\n",
       "      <td>0.911637</td>\n",
       "      <td>0.585175</td>\n",
       "      <td>0.629055</td>\n",
       "    </tr>\n",
       "    <tr>\n",
       "      <th>min</th>\n",
       "      <td>29.000000</td>\n",
       "      <td>-2.340900</td>\n",
       "      <td>-0.978730</td>\n",
       "      <td>-1.627400</td>\n",
       "      <td>-2.025500</td>\n",
       "    </tr>\n",
       "    <tr>\n",
       "      <th>25%</th>\n",
       "      <td>49.000000</td>\n",
       "      <td>-0.358888</td>\n",
       "      <td>0.362173</td>\n",
       "      <td>-0.513748</td>\n",
       "      <td>-0.377090</td>\n",
       "    </tr>\n",
       "    <tr>\n",
       "      <th>50%</th>\n",
       "      <td>58.000000</td>\n",
       "      <td>0.006129</td>\n",
       "      <td>0.992805</td>\n",
       "      <td>-0.173180</td>\n",
       "      <td>0.041768</td>\n",
       "    </tr>\n",
       "    <tr>\n",
       "      <th>75%</th>\n",
       "      <td>68.000000</td>\n",
       "      <td>0.343598</td>\n",
       "      <td>1.627900</td>\n",
       "      <td>0.278353</td>\n",
       "      <td>0.425630</td>\n",
       "    </tr>\n",
       "    <tr>\n",
       "      <th>max</th>\n",
       "      <td>90.000000</td>\n",
       "      <td>1.593600</td>\n",
       "      <td>3.402200</td>\n",
       "      <td>2.193400</td>\n",
       "      <td>1.629900</td>\n",
       "    </tr>\n",
       "  </tbody>\n",
       "</table>\n",
       "</div>"
      ],
      "text/plain": [
       "              Age    Protein1    Protein2    Protein3    Protein4\n",
       "count  334.000000  334.000000  334.000000  334.000000  334.000000\n",
       "mean    58.886228   -0.029991    0.946896   -0.090204    0.009819\n",
       "std     12.961212    0.563588    0.911637    0.585175    0.629055\n",
       "min     29.000000   -2.340900   -0.978730   -1.627400   -2.025500\n",
       "25%     49.000000   -0.358888    0.362173   -0.513748   -0.377090\n",
       "50%     58.000000    0.006129    0.992805   -0.173180    0.041768\n",
       "75%     68.000000    0.343598    1.627900    0.278353    0.425630\n",
       "max     90.000000    1.593600    3.402200    2.193400    1.629900"
      ]
     },
     "execution_count": 49,
     "metadata": {},
     "output_type": "execute_result"
    }
   ],
   "source": [
    "brca.describe()"
   ]
  },
  {
   "cell_type": "code",
   "execution_count": 50,
   "id": "088e7ce7",
   "metadata": {},
   "outputs": [
    {
     "data": {
      "text/plain": [
       "(341, 16)"
      ]
     },
     "execution_count": 50,
     "metadata": {},
     "output_type": "execute_result"
    }
   ],
   "source": [
    "brca.shape"
   ]
  },
  {
   "cell_type": "code",
   "execution_count": 111,
   "id": "21254179",
   "metadata": {},
   "outputs": [
    {
     "data": {
      "text/plain": [
       "Patient_ID                    object\n",
       "Age                          float64\n",
       "Gender                        object\n",
       "Protein1                     float64\n",
       "Protein2                     float64\n",
       "Protein3                     float64\n",
       "Protein4                     float64\n",
       "Tumour_Stage                  object\n",
       "Histology                     object\n",
       "ER status                     object\n",
       "PR status                     object\n",
       "HER2 status                   object\n",
       "Surgery_type                  object\n",
       "Date_of_Surgery       datetime64[ns]\n",
       "Date_of_Last_Visit    datetime64[ns]\n",
       "Patient_Status                object\n",
       "dtype: object"
      ]
     },
     "execution_count": 111,
     "metadata": {},
     "output_type": "execute_result"
    }
   ],
   "source": [
    "brca.dtypes"
   ]
  },
  {
   "cell_type": "code",
   "execution_count": 59,
   "id": "5f7df938",
   "metadata": {},
   "outputs": [
    {
     "data": {
      "text/plain": [
       "Patient_ID             7\n",
       "Age                    7\n",
       "Gender                 7\n",
       "Protein1               7\n",
       "Protein2               7\n",
       "Protein3               7\n",
       "Protein4               7\n",
       "Tumour_Stage           7\n",
       "Histology              7\n",
       "ER status              7\n",
       "PR status              7\n",
       "HER2 status            7\n",
       "Surgery_type           7\n",
       "Date_of_Surgery        7\n",
       "Date_of_Last_Visit    24\n",
       "Patient_Status        20\n",
       "dtype: int64"
      ]
     },
     "execution_count": 59,
     "metadata": {},
     "output_type": "execute_result"
    }
   ],
   "source": [
    "brca.isnull().sum()"
   ]
  },
  {
   "cell_type": "code",
   "execution_count": 60,
   "id": "5569dd1b",
   "metadata": {},
   "outputs": [],
   "source": [
    "brca1 = brca.dropna(axis = 0)"
   ]
  },
  {
   "cell_type": "code",
   "execution_count": 61,
   "id": "528b548c",
   "metadata": {},
   "outputs": [
    {
     "data": {
      "text/plain": [
       "6"
      ]
     },
     "execution_count": 61,
     "metadata": {},
     "output_type": "execute_result"
    }
   ],
   "source": [
    "brca.duplicated().sum()"
   ]
  },
  {
   "cell_type": "code",
   "execution_count": 62,
   "id": "1b789171",
   "metadata": {},
   "outputs": [],
   "source": [
    "brca.drop_duplicates(keep = 'first', inplace = True)"
   ]
  },
  {
   "cell_type": "code",
   "execution_count": 63,
   "id": "1d21008c",
   "metadata": {},
   "outputs": [
    {
     "name": "stdout",
     "output_type": "stream",
     "text": [
      "<class 'pandas.core.frame.DataFrame'>\n",
      "Index: 317 entries, 0 to 333\n",
      "Data columns (total 16 columns):\n",
      " #   Column              Non-Null Count  Dtype         \n",
      "---  ------              --------------  -----         \n",
      " 0   Patient_ID          317 non-null    object        \n",
      " 1   Age                 317 non-null    float64       \n",
      " 2   Gender              317 non-null    object        \n",
      " 3   Protein1            317 non-null    float64       \n",
      " 4   Protein2            317 non-null    float64       \n",
      " 5   Protein3            317 non-null    float64       \n",
      " 6   Protein4            317 non-null    float64       \n",
      " 7   Tumour_Stage        317 non-null    object        \n",
      " 8   Histology           317 non-null    object        \n",
      " 9   ER status           317 non-null    object        \n",
      " 10  PR status           317 non-null    object        \n",
      " 11  HER2 status         317 non-null    object        \n",
      " 12  Surgery_type        317 non-null    object        \n",
      " 13  Date_of_Surgery     317 non-null    datetime64[ns]\n",
      " 14  Date_of_Last_Visit  317 non-null    datetime64[ns]\n",
      " 15  Patient_Status      317 non-null    object        \n",
      "dtypes: datetime64[ns](2), float64(5), object(9)\n",
      "memory usage: 42.1+ KB\n"
     ]
    }
   ],
   "source": [
    "brca1.info()"
   ]
  },
  {
   "cell_type": "markdown",
   "id": "754d31d2",
   "metadata": {},
   "source": [
    "**Findings**\n",
    "* There are 341 rows and 16 columns in the dataset.\n",
    "* All of the columns have missing values.\n",
    "    * We have removed any missing values in the dataset.\n",
    "* 5 out of 16 columns are float data types while the other are object / string data types\n",
    "* We can see that there are 6 duplicated entries.\n",
    "    * We have removed them from the dataset.\n",
    "    * We have run a check to see if the rows have been removed that were duplicates and missing values.\n",
    "* After all this has been done our dataset has been cleaned and ready for futher exploring to find relationships between data variables. \n",
    "* The data we have is:\n",
    "    * 5 Numeric data variables\n",
    "    * 11 Categorical data variables\n",
    "* We had to change the data type of Dat_of_Surgery and Date_of_Last_Visit to datetime64[ns] instead of having them as objects."
   ]
  },
  {
   "cell_type": "markdown",
   "id": "72487dcf",
   "metadata": {},
   "source": [
    "## Discover relationships between variables"
   ]
  },
  {
   "cell_type": "markdown",
   "id": "62857c6d",
   "metadata": {},
   "source": [
    "After finding out more about our dataset, we will now move to the next part of the EDA process and visualise our data to find any relationships in the data between different variables."
   ]
  },
  {
   "cell_type": "code",
   "execution_count": 29,
   "id": "a0c6a914",
   "metadata": {},
   "outputs": [
    {
     "data": {
      "text/html": [
       "<div>\n",
       "<style scoped>\n",
       "    .dataframe tbody tr th:only-of-type {\n",
       "        vertical-align: middle;\n",
       "    }\n",
       "\n",
       "    .dataframe tbody tr th {\n",
       "        vertical-align: top;\n",
       "    }\n",
       "\n",
       "    .dataframe thead th {\n",
       "        text-align: right;\n",
       "    }\n",
       "</style>\n",
       "<table border=\"1\" class=\"dataframe\">\n",
       "  <thead>\n",
       "    <tr style=\"text-align: right;\">\n",
       "      <th></th>\n",
       "      <th>Patient_Status</th>\n",
       "      <th>count</th>\n",
       "    </tr>\n",
       "  </thead>\n",
       "  <tbody>\n",
       "    <tr>\n",
       "      <th>0</th>\n",
       "      <td>Alive</td>\n",
       "      <td>255</td>\n",
       "    </tr>\n",
       "    <tr>\n",
       "      <th>1</th>\n",
       "      <td>Dead</td>\n",
       "      <td>62</td>\n",
       "    </tr>\n",
       "  </tbody>\n",
       "</table>\n",
       "</div>"
      ],
      "text/plain": [
       "  Patient_Status  count\n",
       "0          Alive    255\n",
       "1           Dead     62"
      ]
     },
     "execution_count": 29,
     "metadata": {},
     "output_type": "execute_result"
    }
   ],
   "source": [
    "freq_table_patient_status = brca1.groupby(['Patient_Status']).size().reset_index(name = 'count')\n",
    "freq_table_patient_status"
   ]
  },
  {
   "cell_type": "code",
   "execution_count": 33,
   "id": "50ebf4ed",
   "metadata": {},
   "outputs": [
    {
     "data": {
      "image/png": "[encoded data removed]",
      "text/plain": [
       "<Figure size 500x500 with 1 Axes>"
      ]
     },
     "metadata": {},
     "output_type": "display_data"
    }
   ],
   "source": [
    "# Set the figure size\n",
    "plt.figure(figsize = (5,5))\n",
    "# Create a bar plot\n",
    "plt.bar(freq_table_patient_status['Patient_Status'], freq_table_patient_status['count'])\n",
    "# Set label for y-axis\n",
    "plt.ylabel(\"Patient Status\")\n",
    "# Set title\n",
    "plt.title('Patient Status Count')\n",
    "# Display the plot\n",
    "plt.show()"
   ]
  },
  {
   "cell_type": "markdown",
   "id": "89c964fc",
   "metadata": {},
   "source": [
    "**Findings**\n",
    "\n",
    "* Here we can see that of the 317 patients that were part of the dataset:\n",
    "    * 255 have been reported to being alive\n",
    "    * 62 have been reported to have died"
   ]
  },
  {
   "cell_type": "code",
   "execution_count": 36,
   "id": "eff1aca7",
   "metadata": {},
   "outputs": [
    {
     "data": {
      "text/html": [
       "<div>\n",
       "<style scoped>\n",
       "    .dataframe tbody tr th:only-of-type {\n",
       "        vertical-align: middle;\n",
       "    }\n",
       "\n",
       "    .dataframe tbody tr th {\n",
       "        vertical-align: top;\n",
       "    }\n",
       "\n",
       "    .dataframe thead th {\n",
       "        text-align: right;\n",
       "    }\n",
       "</style>\n",
       "<table border=\"1\" class=\"dataframe\">\n",
       "  <thead>\n",
       "    <tr style=\"text-align: right;\">\n",
       "      <th></th>\n",
       "      <th>Tumour_Stage</th>\n",
       "      <th>count</th>\n",
       "    </tr>\n",
       "  </thead>\n",
       "  <tbody>\n",
       "    <tr>\n",
       "      <th>0</th>\n",
       "      <td>I</td>\n",
       "      <td>60</td>\n",
       "    </tr>\n",
       "    <tr>\n",
       "      <th>1</th>\n",
       "      <td>II</td>\n",
       "      <td>180</td>\n",
       "    </tr>\n",
       "    <tr>\n",
       "      <th>2</th>\n",
       "      <td>III</td>\n",
       "      <td>77</td>\n",
       "    </tr>\n",
       "  </tbody>\n",
       "</table>\n",
       "</div>"
      ],
      "text/plain": [
       "  Tumour_Stage  count\n",
       "0            I     60\n",
       "1           II    180\n",
       "2          III     77"
      ]
     },
     "execution_count": 36,
     "metadata": {},
     "output_type": "execute_result"
    }
   ],
   "source": [
    "freq_table_tumour_stage = brca1.groupby(['Tumour_Stage']).size().reset_index(name = 'count')\n",
    "freq_table_tumour_stage"
   ]
  },
  {
   "cell_type": "code",
   "execution_count": 39,
   "id": "2ab09aee",
   "metadata": {},
   "outputs": [
    {
     "data": {
      "image/png": "[encoded data removed]",
      "text/plain": [
       "<Figure size 500x500 with 1 Axes>"
      ]
     },
     "metadata": {},
     "output_type": "display_data"
    }
   ],
   "source": [
    "# Set the figure size\n",
    "plt.figure(figsize = (5,5))\n",
    "# Create a bar plot\n",
    "plt.bar(freq_table_tumour_stage['Tumour_Stage'], freq_table_tumour_stage['count'])\n",
    "# Set label for y-axis\n",
    "plt.ylabel(\"Tumour Stage\")\n",
    "# Set title\n",
    "plt.title('Tumour Stage Count')\n",
    "# Display the plot\n",
    "plt.show()"
   ]
  },
  {
   "cell_type": "markdown",
   "id": "97f0a88e",
   "metadata": {},
   "source": [
    "**Findings**\n",
    "\n",
    "* 317 patients have been reported to be in the following Tumour Stages:\n",
    "    * Stage 1 - 60 patients\n",
    "    * Stage 2 - 180 patients\n",
    "    * Stage 3 - 77 patients"
   ]
  },
  {
   "cell_type": "code",
   "execution_count": 40,
   "id": "ac2672f8",
   "metadata": {},
   "outputs": [
    {
     "data": {
      "text/plain": [
       "<Figure size 700x700 with 0 Axes>"
      ]
     },
     "metadata": {},
     "output_type": "display_data"
    },
    {
     "data": {
      "image/png": "[encoded data removed]",
      "text/plain": [
       "<Figure size 640x480 with 9 Axes>"
      ]
     },
     "metadata": {},
     "output_type": "display_data"
    }
   ],
   "source": [
    "plt.figure(figsize = (7,7))\n",
    "brca1.plot(kind = 'box', subplots = True, layout = (3,3))\n",
    "plt.tight_layout()\n",
    "plt.show()"
   ]
  },
  {
   "cell_type": "markdown",
   "id": "482779c2",
   "metadata": {},
   "source": [
    "**Findings**\n",
    "* We look at the above boxplots to see if there is any outliers in the dataset.\n",
    "* We notice that Protein 1, 3 and 4 all have outliers.\n",
    "* We now need to decide what we will do with these outliers"
   ]
  },
  {
   "cell_type": "code",
   "execution_count": 77,
   "id": "cb1fda50",
   "metadata": {},
   "outputs": [
    {
     "data": {
      "text/plain": [
       "<Axes: title={'center': 'stacked bar plot'}, xlabel='Tumour_Stage'>"
      ]
     },
     "execution_count": 77,
     "metadata": {},
     "output_type": "execute_result"
    },
    {
     "data": {
      "image/png": "[encoded data removed]",
      "text/plain": [
       "<Figure size 640x480 with 1 Axes>"
      ]
     },
     "metadata": {},
     "output_type": "display_data"
    }
   ],
   "source": [
    "# Use pivot table to create stacked bar plot\n",
    "stack = pd.pivot_table(brca1, index = ['Tumour_Stage'], columns = ['ER status'], values = 'Patient_ID', aggfunc = 'count')\n",
    "# Plot the stacked plot\n",
    "stack.plot.bar(title = 'stacked bar plot', stacked = True)"
   ]
  },
  {
   "cell_type": "code",
   "execution_count": null,
   "id": "53f17812",
   "metadata": {},
   "outputs": [],
   "source": []
  },
  {
   "cell_type": "code",
   "execution_count": 76,
   "id": "897f632e",
   "metadata": {},
   "outputs": [
    {
     "data": {
      "text/plain": [
       "<Axes: title={'center': 'stacked bar plot'}, xlabel='Tumour_Stage'>"
      ]
     },
     "execution_count": 76,
     "metadata": {},
     "output_type": "execute_result"
    },
    {
     "data": {
      "image/png": "[encoded data removed]",
      "text/plain": [
       "<Figure size 640x480 with 1 Axes>"
      ]
     },
     "metadata": {},
     "output_type": "display_data"
    }
   ],
   "source": [
    "# Use pivot table to create stacked bar plot\n",
    "stack = pd.pivot_table(brca1, index = ['Tumour_Stage'], columns = ['PR status'], values = 'Patient_ID', aggfunc = 'count')\n",
    "# Plot the stacked plot\n",
    "stack.plot.bar(title = 'stacked bar plot', stacked = True)"
   ]
  },
  {
   "cell_type": "code",
   "execution_count": 78,
   "id": "e7450d1e",
   "metadata": {},
   "outputs": [
    {
     "data": {
      "text/plain": [
       "<Axes: title={'center': 'stacked bar plot'}, xlabel='Tumour_Stage'>"
      ]
     },
     "execution_count": 78,
     "metadata": {},
     "output_type": "execute_result"
    },
    {
     "data": {
      "image/png": "[encoded data removed]",
      "text/plain": [
       "<Figure size 640x480 with 1 Axes>"
      ]
     },
     "metadata": {},
     "output_type": "display_data"
    }
   ],
   "source": [
    "# Use pivot table to create stacked bar plot\n",
    "stack = pd.pivot_table(brca1, index = ['Tumour_Stage'], columns = ['HER2 status'], values = 'Patient_ID', aggfunc = 'count')\n",
    "# Plot the stacked plot\n",
    "stack.plot.bar(title = 'stacked bar plot', stacked = True)"
   ]
  },
  {
   "cell_type": "markdown",
   "id": "03bde971",
   "metadata": {},
   "source": [
    "**Findings**\n",
    "* Between the PR, ER and HER2 status' we can see that only the HER2 has negative and positive results\n",
    "* People in stage 2 & 3 have more positve results than those in stage"
   ]
  },
  {
   "cell_type": "code",
   "execution_count": 86,
   "id": "428c7068",
   "metadata": {},
   "outputs": [
    {
     "data": {
      "text/html": [
       "<div>\n",
       "<style scoped>\n",
       "    .dataframe tbody tr th:only-of-type {\n",
       "        vertical-align: middle;\n",
       "    }\n",
       "\n",
       "    .dataframe tbody tr th {\n",
       "        vertical-align: top;\n",
       "    }\n",
       "\n",
       "    .dataframe thead th {\n",
       "        text-align: right;\n",
       "    }\n",
       "</style>\n",
       "<table border=\"1\" class=\"dataframe\">\n",
       "  <thead>\n",
       "    <tr style=\"text-align: right;\">\n",
       "      <th></th>\n",
       "      <th>Age</th>\n",
       "      <th>Protein1</th>\n",
       "      <th>Protein2</th>\n",
       "      <th>Protein3</th>\n",
       "      <th>Protein4</th>\n",
       "    </tr>\n",
       "  </thead>\n",
       "  <tbody>\n",
       "    <tr>\n",
       "      <th>Age</th>\n",
       "      <td>1.000000</td>\n",
       "      <td>-0.044541</td>\n",
       "      <td>-0.011387</td>\n",
       "      <td>-0.047362</td>\n",
       "      <td>0.095417</td>\n",
       "    </tr>\n",
       "    <tr>\n",
       "      <th>Protein1</th>\n",
       "      <td>-0.044541</td>\n",
       "      <td>1.000000</td>\n",
       "      <td>0.223093</td>\n",
       "      <td>-0.103046</td>\n",
       "      <td>0.259171</td>\n",
       "    </tr>\n",
       "    <tr>\n",
       "      <th>Protein2</th>\n",
       "      <td>-0.011387</td>\n",
       "      <td>0.223093</td>\n",
       "      <td>1.000000</td>\n",
       "      <td>-0.407670</td>\n",
       "      <td>0.084939</td>\n",
       "    </tr>\n",
       "    <tr>\n",
       "      <th>Protein3</th>\n",
       "      <td>-0.047362</td>\n",
       "      <td>-0.103046</td>\n",
       "      <td>-0.407670</td>\n",
       "      <td>1.000000</td>\n",
       "      <td>0.076759</td>\n",
       "    </tr>\n",
       "    <tr>\n",
       "      <th>Protein4</th>\n",
       "      <td>0.095417</td>\n",
       "      <td>0.259171</td>\n",
       "      <td>0.084939</td>\n",
       "      <td>0.076759</td>\n",
       "      <td>1.000000</td>\n",
       "    </tr>\n",
       "  </tbody>\n",
       "</table>\n",
       "</div>"
      ],
      "text/plain": [
       "               Age  Protein1  Protein2  Protein3  Protein4\n",
       "Age       1.000000 -0.044541 -0.011387 -0.047362  0.095417\n",
       "Protein1 -0.044541  1.000000  0.223093 -0.103046  0.259171\n",
       "Protein2 -0.011387  0.223093  1.000000 -0.407670  0.084939\n",
       "Protein3 -0.047362 -0.103046 -0.407670  1.000000  0.076759\n",
       "Protein4  0.095417  0.259171  0.084939  0.076759  1.000000"
      ]
     },
     "execution_count": 86,
     "metadata": {},
     "output_type": "execute_result"
    }
   ],
   "source": [
    "# Select only numerical values\n",
    "num_brca1 = brca1.select_dtypes(include = 'number')\n",
    "# Correleation matrix\n",
    "corr_matrix = num_brca1.corr()\n",
    "# Display\n",
    "corr_matrix"
   ]
  },
  {
   "cell_type": "code",
   "execution_count": 87,
   "id": "39bb186c",
   "metadata": {},
   "outputs": [
    {
     "data": {
      "image/png": "[encoded data removed]",
      "text/plain": [
       "<Figure size 800x400 with 2 Axes>"
      ]
     },
     "metadata": {},
     "output_type": "display_data"
    }
   ],
   "source": [
    "# Correlation between numeric values\n",
    "# Set figure size\n",
    "plt.figure(figsize = (8,4))\n",
    "# Plot heat map to visualize correlation matrix\n",
    "# 'annot = True' returns correlation values\n",
    "# 'cmap' assigns colour to each cell\n",
    "sns.heatmap(corr_matrix, annot = True,cmap = 'Blues')\n",
    "# Display\n",
    "plt.show()"
   ]
  },
  {
   "cell_type": "markdown",
   "id": "1faf8dc8",
   "metadata": {},
   "source": [
    "**Findings**\n",
    "* There is no significant correlation between the numerical values in the dataset"
   ]
  },
  {
   "cell_type": "markdown",
   "id": "285df811",
   "metadata": {},
   "source": [
    "## Prediction Model "
   ]
  },
  {
   "cell_type": "code",
   "execution_count": 135,
   "id": "07d4a716",
   "metadata": {},
   "outputs": [
    {
     "name": "stdout",
     "output_type": "stream",
     "text": [
      "    Age  Gender  Protein1  Protein2  Protein3  Protein4  Tumour_Stage  \\\n",
      "0  36.0       1  0.080353   0.42638   0.54715  0.273680             3   \n",
      "1  43.0       1 -0.420320   0.57807   0.61447 -0.031505             2   \n",
      "2  69.0       1  0.213980   1.31140  -0.32747 -0.234260             3   \n",
      "3  56.0       1  0.345090  -0.21147  -0.19304  0.124270             2   \n",
      "4  56.0       1  0.221550   1.90680   0.52045 -0.311990             2   \n",
      "\n",
      "   Histology  ER status  PR status  HER2 status  Surgery_type Patient_Status  \n",
      "0          1          1          1            2             2          Alive  \n",
      "1          3          1          1            2             3           Dead  \n",
      "2          1          1          1            2             1          Alive  \n",
      "3          1          1          1            2             2          Alive  \n",
      "4          1          1          1            2             1           Dead  \n"
     ]
    }
   ],
   "source": [
    "# Changing the values from cateforical to numerical values\n",
    "brca1[\"Tumour_Stage\"] = brca1[\"Tumour_Stage\"].map({\"I\": 1, \"II\": 2, \"III\": 3})\n",
    "brca1[\"Histology\"] = brca1[\"Histology\"].map({\"Infiltrating Ductal Carcinoma\": 1, \n",
    "                                           \"Infiltrating Lobular Carcinoma\": 2, \"Mucinous Carcinoma\": 3})\n",
    "brca1[\"ER status\"] = brca1[\"ER status\"].map({\"Positive\": 1})\n",
    "brca1[\"PR status\"] = brca1[\"PR status\"].map({\"Positive\": 1})\n",
    "brca1[\"HER2 status\"] = brca1[\"HER2 status\"].map({\"Positive\": 1, \"Negative\": 2})\n",
    "brca1[\"Gender\"] = brca1[\"Gender\"].map({\"MALE\": 0, \"FEMALE\": 1})\n",
    "brca1[\"Surgery_type\"] = brca1[\"Surgery_type\"].map({\"Other\": 1, \"Modified Radical Mastectomy\": 2, \n",
    "                                                 \"Lumpectomy\": 3, \"Simple Mastectomy\": 4})\n",
    "print(brca1.head())"
   ]
  },
  {
   "cell_type": "code",
   "execution_count": 137,
   "id": "9e4bf678",
   "metadata": {},
   "outputs": [],
   "source": [
    "# Splitting data\n",
    "x = np.array(brca1[['Age', 'Gender', 'Protein1', 'Protein2', 'Protein3','Protein4', \n",
    "                   'Tumour_Stage', 'Histology', 'ER status', 'PR status', \n",
    "                   'HER2 status', 'Surgery_type']])\n",
    "y = np.array(brca1[['Patient_Status']])\n",
    "xtrain, xtest, ytrain, ytest = train_test_split(x, y, test_size=0.10, random_state=42)"
   ]
  },
  {
   "cell_type": "code",
   "execution_count": 142,
   "id": "9d20cc43",
   "metadata": {},
   "outputs": [
    {
     "name": "stderr",
     "output_type": "stream",
     "text": [
      "/Library/Frameworks/Python.framework/Versions/3.11/lib/python3.11/site-packages/sklearn/utils/validation.py:1143: DataConversionWarning: A column-vector y was passed when a 1d array was expected. Please change the shape of y to (n_samples, ), for example using ravel().\n",
      "  y = column_or_1d(y, warn=True)\n"
     ]
    },
    {
     "data": {
      "text/html": [
       "<style>#sk-container-id-3 {color: black;background-color: white;}#sk-container-id-3 pre{padding: 0;}#sk-container-id-3 div.sk-toggleable {background-color: white;}#sk-container-id-3 label.sk-toggleable__label {cursor: pointer;display: block;width: 100%;margin-bottom: 0;padding: 0.3em;box-sizing: border-box;text-align: center;}#sk-container-id-3 label.sk-toggleable__label-arrow:before {content: \"▸\";float: left;margin-right: 0.25em;color: #696969;}#sk-container-id-3 label.sk-toggleable__label-arrow:hover:before {color: black;}#sk-container-id-3 div.sk-estimator:hover label.sk-toggleable__label-arrow:before {color: black;}#sk-container-id-3 div.sk-toggleable__content {max-height: 0;max-width: 0;overflow: hidden;text-align: left;background-color: #f0f8ff;}#sk-container-id-3 div.sk-toggleable__content pre {margin: 0.2em;color: black;border-radius: 0.25em;background-color: #f0f8ff;}#sk-container-id-3 input.sk-toggleable__control:checked~div.sk-toggleable__content {max-height: 200px;max-width: 100%;overflow: auto;}#sk-container-id-3 input.sk-toggleable__control:checked~label.sk-toggleable__label-arrow:before {content: \"▾\";}#sk-container-id-3 div.sk-estimator input.sk-toggleable__control:checked~label.sk-toggleable__label {background-color: #d4ebff;}#sk-container-id-3 div.sk-label input.sk-toggleable__control:checked~label.sk-toggleable__label {background-color: #d4ebff;}#sk-container-id-3 input.sk-hidden--visually {border: 0;clip: rect(1px 1px 1px 1px);clip: rect(1px, 1px, 1px, 1px);height: 1px;margin: -1px;overflow: hidden;padding: 0;position: absolute;width: 1px;}#sk-container-id-3 div.sk-estimator {font-family: monospace;background-color: #f0f8ff;border: 1px dotted black;border-radius: 0.25em;box-sizing: border-box;margin-bottom: 0.5em;}#sk-container-id-3 div.sk-estimator:hover {background-color: #d4ebff;}#sk-container-id-3 div.sk-parallel-item::after {content: \"\";width: 100%;border-bottom: 1px solid gray;flex-grow: 1;}#sk-container-id-3 div.sk-label:hover label.sk-toggleable__label {background-color: #d4ebff;}#sk-container-id-3 div.sk-serial::before {content: \"\";position: absolute;border-left: 1px solid gray;box-sizing: border-box;top: 0;bottom: 0;left: 50%;z-index: 0;}#sk-container-id-3 div.sk-serial {display: flex;flex-direction: column;align-items: center;background-color: white;padding-right: 0.2em;padding-left: 0.2em;position: relative;}#sk-container-id-3 div.sk-item {position: relative;z-index: 1;}#sk-container-id-3 div.sk-parallel {display: flex;align-items: stretch;justify-content: center;background-color: white;position: relative;}#sk-container-id-3 div.sk-item::before, #sk-container-id-3 div.sk-parallel-item::before {content: \"\";position: absolute;border-left: 1px solid gray;box-sizing: border-box;top: 0;bottom: 0;left: 50%;z-index: -1;}#sk-container-id-3 div.sk-parallel-item {display: flex;flex-direction: column;z-index: 1;position: relative;background-color: white;}#sk-container-id-3 div.sk-parallel-item:first-child::after {align-self: flex-end;width: 50%;}#sk-container-id-3 div.sk-parallel-item:last-child::after {align-self: flex-start;width: 50%;}#sk-container-id-3 div.sk-parallel-item:only-child::after {width: 0;}#sk-container-id-3 div.sk-dashed-wrapped {border: 1px dashed gray;margin: 0 0.4em 0.5em 0.4em;box-sizing: border-box;padding-bottom: 0.4em;background-color: white;}#sk-container-id-3 div.sk-label label {font-family: monospace;font-weight: bold;display: inline-block;line-height: 1.2em;}#sk-container-id-3 div.sk-label-container {text-align: center;}#sk-container-id-3 div.sk-container {/* jupyter's `normalize.less` sets `[hidden] { display: none; }` but bootstrap.min.css set `[hidden] { display: none !important; }` so we also need the `!important` here to be able to override the default hidden behavior on the sphinx rendered scikit-learn.org. See: https://github.com/scikit-learn/scikit-learn/issues/21755 */display: inline-block !important;position: relative;}#sk-container-id-3 div.sk-text-repr-fallback {display: none;}</style><div id=\"sk-container-id-3\" class=\"sk-top-container\"><div class=\"sk-text-repr-fallback\"><pre>SVC()</pre><b>In a Jupyter environment, please rerun this cell to show the HTML representation or trust the notebook. <br />On GitHub, the HTML representation is unable to render, please try loading this page with nbviewer.org.</b></div><div class=\"sk-container\" hidden><div class=\"sk-item\"><div class=\"sk-estimator sk-toggleable\"><input class=\"sk-toggleable__control sk-hidden--visually\" id=\"sk-estimator-id-3\" type=\"checkbox\" checked><label for=\"sk-estimator-id-3\" class=\"sk-toggleable__label sk-toggleable__label-arrow\">SVC</label><div class=\"sk-toggleable__content\"><pre>SVC()</pre></div></div></div></div></div>"
      ],
      "text/plain": [
       "SVC()"
      ]
     },
     "execution_count": 142,
     "metadata": {},
     "output_type": "execute_result"
    }
   ],
   "source": [
    "# Train the model\n",
    "model = SVC()\n",
    "model.fit(xtrain, ytrain)"
   ]
  },
  {
   "cell_type": "code",
   "execution_count": 143,
   "id": "f3060fb6",
   "metadata": {},
   "outputs": [
    {
     "name": "stdout",
     "output_type": "stream",
     "text": [
      "['Alive']\n"
     ]
    }
   ],
   "source": [
    "# Prediction\n",
    "# features = [['Age', 'Gender', 'Protein1', 'Protein2', 'Protein3','Protein4', 'Tumour_Stage', 'Histology', 'ER status', 'PR status', 'HER2 status', 'Surgery_type']]\n",
    "features = np.array([[36.0, 1, 0.080353, 0.42638, 0.54715, 0.273680, 3, 1, 1, 1, 2, 2,]])\n",
    "print(model.predict(features))"
   ]
  },
  {
   "cell_type": "markdown",
   "id": "7d23b35e",
   "metadata": {},
   "source": [
    "## Conclusion"
   ]
  },
  {
   "cell_type": "markdown",
   "id": "4483477b",
   "metadata": {},
   "source": [
    "In conclusion, the prediction model discussed above has the potential to assist in improving the survival rate for breast cancer patients, but it should be seen as a tool to support medical professionals rather than a sole determinant of treatment decisions.\n",
    "It is important to remember that breast cancer is a complex disease, and numerous factors beyond the model's scope can influence treatment strategies and survival rates. Ultimately, the expertise and judgment of healthcare providers, along with patient-specific considerations, should always guide treatment decisions. The prediction model serves as an additional resource to inform these decisions, helping healthcare professionals tailor treatments and optimize outcomes for breast cancer patients."
   ]
  }
 ],
 "metadata": {
  "kernelspec": {
   "display_name": "Python 3 (ipykernel)",
   "language": "python",
   "name": "python3"
  },
  "language_info": {
   "codemirror_mode": {
    "name": "ipython",
    "version": 3
   },
   "file_extension": ".py",
   "mimetype": "text/x-python",
   "name": "python",
   "nbconvert_exporter": "python",
   "pygments_lexer": "ipython3",
   "version": "3.11.4"
  }
 },
 "nbformat": 4,
 "nbformat_minor": 5
}
